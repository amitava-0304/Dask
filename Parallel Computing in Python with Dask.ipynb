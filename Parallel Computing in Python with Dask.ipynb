{
 "cells": [
  {
   "attachments": {
    "dask1.png": {
     "image/png": "[encoded data removed]"
    }
   },
   "cell_type": "markdown",
   "id": "901ccad2",
   "metadata": {},
   "source": [
    "![dask1.png](attachment:dask1.png)"
   ]
  },
  {
   "cell_type": "markdown",
   "id": "95c9ad99",
   "metadata": {},
   "source": [
    "<h1 align=center>Parallel Computing in Python with Dask</h1>"
   ]
  },
  {
   "cell_type": "markdown",
   "id": "57667f9c",
   "metadata": {},
   "source": [
    "<!DOCTYPE html>\n",
    "<html lang=\"en\">\n",
    "<head>\n",
    "  <meta charset=\"UTF-8\">\n",
    "  <meta name=\"viewport\" content=\"width=device-width, initial-scale=1.0\">\n",
    "  \n",
    "  <link rel=\"stylesheet\" href=\"style.css\"> </head>\n",
    "<body>\n",
    "  <h1>Parallel Computing</h1>\n",
    "  <p>Parallel computing is an architecture in which several processors execute or process an application or computation simultaneously. This approach helps in performing extensive calculations by dividing the workload between more than one processor, all of which work through the calculation at the same time.</p>\n",
    "  <h2>Benefits of Parallel Computing</h2>\n",
    "  <p>The primary goal of parallel computing is to increase available computation power for faster application processing and problem solving. In sequential computing, all the instructions run one after another without overlapping, whereas in parallel computing instructions run in parallel to complete the given task faster.</p>\n",
    "</body>\n",
    "</html>\n"
   ]
  },
  {
   "cell_type": "markdown",
   "id": "e127574a",
   "metadata": {},
   "source": [
    "## Python Frameworks for Parallel Computing\n",
    "\n",
    "There are several well-regarded Python frameworks for parallel computing, each with its strengths and use cases. Here's a breakdown of a few popular options:\n",
    "\n",
    "### Built-in Modules\n",
    "* **multiprocessing:** This standard library module offers tools for utilizing multiple processes on a single machine. It's a good choice for CPU-bound tasks that can be broken down into independent chunks.\n",
    "\n",
    "### Higher-level Frameworks\n",
    "* **Dask:** Dask excels at parallel computing for data analysis. It allows you to work with large datasets spread across your machine's memory or a cluster.\n",
    "* **Ray:** Ray is a flexible framework that simplifies parallelizing existing Python applications. It supports various parallelism forms, including distributed computing and GPU acceleration.\n",
    "* **IPython parallel:** Designed for use within the IPython environment, IPython parallel provides a user-friendly interface for managing parallel tasks on single or multi-node systems.\n",
    "    "
   ]
  },
  {
   "cell_type": "markdown",
   "id": "8d352b42",
   "metadata": {},
   "source": [
    "## When to Use Dask DataFrames\n",
    "\n",
    "Pandas is great for tabular datasets that fit in memory. If your data fits in memory then you should use Pandas. Dask becomes useful when the dataset you want to analyze is larger than your machine's RAM where you would normally run into MemoryError\n"
   ]
  },
  {
   "cell_type": "markdown",
   "id": "d5febfed",
   "metadata": {},
   "source": [
    "## Don't use Dask DataFrames if you don't need to!\n",
    "\n",
    "Distributed computing brings a lot of additional complexity into the mix and will incur overhead. If your dataset and computations fit comfortably within your local resources this overhead will may be larger than the performance gain you'll get by using Dask. In that case, stick with non-distributed libraries like pandas, numpy and scikit-learn."
   ]
  },
  {
   "cell_type": "markdown",
   "id": "69b17360",
   "metadata": {},
   "source": [
    "## Getting started with Dask DataFrames"
   ]
  },
  {
   "cell_type": "markdown",
   "id": "4519f85e",
   "metadata": {},
   "source": [
    "Let's use Dask DataFrame's to explore the NYC flight dataset. Dask's read_csv function supports wildcard characters like \"*\" which can be used to load an entire directory of CSV files."
   ]
  },
  {
   "cell_type": "code",
   "execution_count": 10,
   "id": "9426888a",
   "metadata": {},
   "outputs": [],
   "source": [
    "import os\n",
    "import time\n",
    "import dask.dataframe as dd\n",
    "import pandas as pd\n",
    "import glob\n",
    "import numpy as np\n",
    "import gc\n",
    "from sklearn.impute import SimpleImputer\n",
    "import warnings\n",
    "warnings.filterwarnings('ignore')\n",
    "from dask import compute, delayed\n",
    "from dask.distributed import Client\n",
    "from sqlalchemy import create_engine\n",
    "import itertools\n",
    "import sqlite3\n",
    "from dask.distributed import Client, as_completed, wait, TimeoutError\n",
    "from dask import delayed\n",
    "import logging\n",
    "from concurrent.futures import ThreadPoolExecutor, as_completed, TimeoutError,ProcessPoolExecutor\n"
   ]
  },
  {
   "cell_type": "markdown",
   "id": "ecf50844",
   "metadata": {},
   "source": [
    "## This code snippet measures the execution time of reading a CSV file using the dask library. "
   ]
  },
  {
   "cell_type": "code",
   "execution_count": 3,
   "id": "aadf563b",
   "metadata": {},
   "outputs": [
    {
     "name": "stdout",
     "output_type": "stream",
     "text": [
      "Execution time: 0.02422475814819336 seconds\n"
     ]
    }
   ],
   "source": [
    "#Gathering data\n",
    "start_time = time.time()\n",
    "files = os.path.join('data','*.csv')\n",
    "ddf = dd.read_csv(files,\n",
    "                  parse_dates={'Date': [0, 1, 2]},\n",
    "                  dtype={\"TailNum\": str,\n",
    "                         \"CRSElapsedTime\": float,\n",
    "                         \"Cancelled\": bool})\n",
    "end_time = time.time()\n",
    "print(f\"Execution time: {end_time - start_time} seconds\")\n"
   ]
  },
  {
   "cell_type": "code",
   "execution_count": 4,
   "id": "c1de4b5b",
   "metadata": {},
   "outputs": [
    {
     "name": "stdout",
     "output_type": "stream",
     "text": [
      "Total: 2611892 rows\n"
     ]
    }
   ],
   "source": [
    "#Since Dask operations are lazy, those values aren't the final results until we compute them.**\n",
    "num_rows = ddf.shape[0].compute()\n",
    "print(f\"Total: {num_rows} rows\")"
   ]
  },
  {
   "cell_type": "markdown",
   "id": "6e032515",
   "metadata": {},
   "source": [
    "## This code snippet measures the execution time of reading a CSV file using the panda library."
   ]
  },
  {
   "cell_type": "code",
   "execution_count": 6,
   "id": "20804e5a",
   "metadata": {},
   "outputs": [
    {
     "name": "stdout",
     "output_type": "stream",
     "text": [
      "Execution time: 8.665441989898682 seconds\n"
     ]
    }
   ],
   "source": [
    "start_time = time.time()\n",
    "files = os.path.join('data','*.csv')\n",
    "# Read CSV files into a Pandas DataFrame\n",
    "df_list = []\n",
    "for file in glob.glob(files):\n",
    "    df_list.append(pd.read_csv(file, parse_dates={'Date': [0, 1, 2]}, \n",
    "                               dtype={\"TailNum\": str, \"CRSElapsedTime\": float, \"Cancelled\": bool}))\n",
    "# Concatenate all DataFrames\n",
    "df = pd.concat(df_list)\n",
    "end_time = time.time()\n",
    "execution_time = end_time - start_time\n",
    "print(f\"Execution time: {execution_time} seconds\")"
   ]
  },
  {
   "cell_type": "code",
   "execution_count": 7,
   "id": "7efd6dc1",
   "metadata": {},
   "outputs": [
    {
     "name": "stdout",
     "output_type": "stream",
     "text": [
      "Total: 2611892 rows\n"
     ]
    }
   ],
   "source": [
    "print(f\"Total: {len(df)} rows\")"
   ]
  },
  {
   "cell_type": "markdown",
   "id": "128a8478",
   "metadata": {},
   "source": [
    "# Interpretation:"
   ]
  },
  {
   "cell_type": "markdown",
   "id": "7f1dbd35",
   "metadata": {},
   "source": [
    "<h3><font color=green>Dask seems to be significantly faster (around 368 times faster) than pandas in this case. This is because Dask leverages parallel processing capabilities. It likely distributed the reading tasks across multiple cores on your machine, leading to a much faster execution time for larger datasets."
   ]
  },
  {
   "cell_type": "markdown",
   "id": "68ca685c",
   "metadata": {},
   "source": [
    "# The pandas Look & Feel"
   ]
  },
  {
   "cell_type": "markdown",
   "id": "4a7e0083",
   "metadata": {},
   "source": [
    "Dask DataFrames implement a well-used portion of the Pandas API in a way that allows for parallel and out-of-core computation. This means that a lot of Dask DataFrame code will look and feel familiar to pandas users:\n",
    "\n"
   ]
  },
  {
   "cell_type": "markdown",
   "id": "fde9b689",
   "metadata": {},
   "source": [
    "**pandas-like Computations**\n",
    "\n",
    "For example, let's compute the mean and standard deviation for departure delay of all non-canceled flights. "
   ]
  },
  {
   "cell_type": "code",
   "execution_count": 7,
   "id": "02234220",
   "metadata": {},
   "outputs": [
    {
     "name": "stdout",
     "output_type": "stream",
     "text": [
      "Execution time: 0.018455982208251953 seconds\n",
      "CPU times: total: 15.6 ms\n",
      "Wall time: 18.5 ms\n"
     ]
    }
   ],
   "source": [
    "%%time\n",
    "start_time = time.time()\n",
    "non_cancelled = ddf[~ddf[\"Cancelled\"]]\n",
    "mean_delay = non_cancelled[\"DepDelay\"].mean()\n",
    "std_delay = non_cancelled[\"DepDelay\"].std()\n",
    "end_time = time.time()\n",
    "execution_time = end_time - start_time\n",
    "print(f\"Execution time: {execution_time} seconds\")"
   ]
  },
  {
   "cell_type": "code",
   "execution_count": 8,
   "id": "55a00546",
   "metadata": {},
   "outputs": [
    {
     "name": "stdout",
     "output_type": "stream",
     "text": [
      "Execution time: 0.913571834564209 seconds\n",
      "CPU times: total: 875 ms\n",
      "Wall time: 914 ms\n"
     ]
    }
   ],
   "source": [
    "%%time\n",
    "start_time = time.time()\n",
    "non_cancelled = df[~df[\"Cancelled\"]]\n",
    "mean_delay = non_cancelled[\"DepDelay\"].mean()\n",
    "std_delay = non_cancelled[\"DepDelay\"].std()\n",
    "end_time = time.time()\n",
    "execution_time = end_time - start_time\n",
    "print(f\"Execution time: {execution_time} seconds\")"
   ]
  },
  {
   "cell_type": "markdown",
   "id": "c4cc5848",
   "metadata": {},
   "source": [
    "**Observations:**\n",
    "* The Dask DataFrame execution time (0.08 seconds) is considerably faster than the Pandas DataFrame execution time (0.46 seconds).\n",
    "  This suggests that Dask's parallel processing capabilities shine for larger datasets.\n",
    "* The wall time (86.8 ms) for Dask is slightly lower than the CPU time (93.8 ms), indicating minimal\n",
    "  overhead associated with parallelization in this specific case.\n",
    "* The Pandas DataFrame execution time (0.46 seconds) reflects the processing happening entirely on a single CPU core."
   ]
  },
  {
   "attachments": {
    "dask-dataframe1.svg": {
     "image/svg+xml": [
      "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"
     ]
    }
   },
   "cell_type": "markdown",
   "id": "67034fd8",
   "metadata": {},
   "source": [
    "![dask-dataframe1.svg](attachment:dask-dataframe1.svg)"
   ]
  },
  {
   "cell_type": "markdown",
   "id": "3f5d662f",
   "metadata": {},
   "source": [
    "**Dask DataFrames are divided into different partitions where each partition is a pandas DataFrame. This is why driving the Dask car can feel like you're still driving the pandas car: Dask is performing a bunch of regular pandas operations on regular pandas objects under the hood.**\n",
    "\n",
    "**But don't forget that you've entered the world of distributed computing now -- which means you've added a lot more complexity to the mix. You now need to consider things like concurrency, state, data duplicates, data loss, etc.**\n",
    "\n",
    "**Luckily, with a high-level Collection like DataFrames, Dask handles most of these complicated questions for you.**"
   ]
  },
  {
   "cell_type": "code",
   "execution_count": 10,
   "id": "8084ec03",
   "metadata": {
    "scrolled": true
   },
   "outputs": [
    {
     "data": {
      "text/html": [
       "<div>\n",
       "<style scoped>\n",
       "    .dataframe tbody tr th:only-of-type {\n",
       "        vertical-align: middle;\n",
       "    }\n",
       "\n",
       "    .dataframe tbody tr th {\n",
       "        vertical-align: top;\n",
       "    }\n",
       "\n",
       "    .dataframe thead th {\n",
       "        text-align: right;\n",
       "    }\n",
       "</style>\n",
       "<table border=\"1\" class=\"dataframe\">\n",
       "  <thead>\n",
       "    <tr style=\"text-align: right;\">\n",
       "      <th></th>\n",
       "      <th>Date</th>\n",
       "      <th>DayOfWeek</th>\n",
       "      <th>DepTime</th>\n",
       "      <th>CRSDepTime</th>\n",
       "      <th>ArrTime</th>\n",
       "      <th>CRSArrTime</th>\n",
       "      <th>UniqueCarrier</th>\n",
       "      <th>FlightNum</th>\n",
       "      <th>TailNum</th>\n",
       "      <th>ActualElapsedTime</th>\n",
       "      <th>...</th>\n",
       "      <th>AirTime</th>\n",
       "      <th>ArrDelay</th>\n",
       "      <th>DepDelay</th>\n",
       "      <th>Origin</th>\n",
       "      <th>Dest</th>\n",
       "      <th>Distance</th>\n",
       "      <th>TaxiIn</th>\n",
       "      <th>TaxiOut</th>\n",
       "      <th>Cancelled</th>\n",
       "      <th>Diverted</th>\n",
       "    </tr>\n",
       "  </thead>\n",
       "  <tbody>\n",
       "    <tr>\n",
       "      <th>0</th>\n",
       "      <td>1990-01-01</td>\n",
       "      <td>1</td>\n",
       "      <td>1621.0</td>\n",
       "      <td>1540</td>\n",
       "      <td>1747.0</td>\n",
       "      <td>1701</td>\n",
       "      <td>US</td>\n",
       "      <td>33</td>\n",
       "      <td>NaN</td>\n",
       "      <td>86.0</td>\n",
       "      <td>...</td>\n",
       "      <td>NaN</td>\n",
       "      <td>46.0</td>\n",
       "      <td>41.0</td>\n",
       "      <td>EWR</td>\n",
       "      <td>PIT</td>\n",
       "      <td>319.0</td>\n",
       "      <td>NaN</td>\n",
       "      <td>NaN</td>\n",
       "      <td>False</td>\n",
       "      <td>0</td>\n",
       "    </tr>\n",
       "    <tr>\n",
       "      <th>1</th>\n",
       "      <td>1990-01-02</td>\n",
       "      <td>2</td>\n",
       "      <td>1547.0</td>\n",
       "      <td>1540</td>\n",
       "      <td>1700.0</td>\n",
       "      <td>1701</td>\n",
       "      <td>US</td>\n",
       "      <td>33</td>\n",
       "      <td>NaN</td>\n",
       "      <td>73.0</td>\n",
       "      <td>...</td>\n",
       "      <td>NaN</td>\n",
       "      <td>-1.0</td>\n",
       "      <td>7.0</td>\n",
       "      <td>EWR</td>\n",
       "      <td>PIT</td>\n",
       "      <td>319.0</td>\n",
       "      <td>NaN</td>\n",
       "      <td>NaN</td>\n",
       "      <td>False</td>\n",
       "      <td>0</td>\n",
       "    </tr>\n",
       "    <tr>\n",
       "      <th>2</th>\n",
       "      <td>1990-01-03</td>\n",
       "      <td>3</td>\n",
       "      <td>1546.0</td>\n",
       "      <td>1540</td>\n",
       "      <td>1710.0</td>\n",
       "      <td>1701</td>\n",
       "      <td>US</td>\n",
       "      <td>33</td>\n",
       "      <td>NaN</td>\n",
       "      <td>84.0</td>\n",
       "      <td>...</td>\n",
       "      <td>NaN</td>\n",
       "      <td>9.0</td>\n",
       "      <td>6.0</td>\n",
       "      <td>EWR</td>\n",
       "      <td>PIT</td>\n",
       "      <td>319.0</td>\n",
       "      <td>NaN</td>\n",
       "      <td>NaN</td>\n",
       "      <td>False</td>\n",
       "      <td>0</td>\n",
       "    </tr>\n",
       "    <tr>\n",
       "      <th>3</th>\n",
       "      <td>1990-01-04</td>\n",
       "      <td>4</td>\n",
       "      <td>1542.0</td>\n",
       "      <td>1540</td>\n",
       "      <td>1710.0</td>\n",
       "      <td>1701</td>\n",
       "      <td>US</td>\n",
       "      <td>33</td>\n",
       "      <td>NaN</td>\n",
       "      <td>88.0</td>\n",
       "      <td>...</td>\n",
       "      <td>NaN</td>\n",
       "      <td>9.0</td>\n",
       "      <td>2.0</td>\n",
       "      <td>EWR</td>\n",
       "      <td>PIT</td>\n",
       "      <td>319.0</td>\n",
       "      <td>NaN</td>\n",
       "      <td>NaN</td>\n",
       "      <td>False</td>\n",
       "      <td>0</td>\n",
       "    </tr>\n",
       "    <tr>\n",
       "      <th>4</th>\n",
       "      <td>1990-01-05</td>\n",
       "      <td>5</td>\n",
       "      <td>1549.0</td>\n",
       "      <td>1540</td>\n",
       "      <td>1706.0</td>\n",
       "      <td>1701</td>\n",
       "      <td>US</td>\n",
       "      <td>33</td>\n",
       "      <td>NaN</td>\n",
       "      <td>77.0</td>\n",
       "      <td>...</td>\n",
       "      <td>NaN</td>\n",
       "      <td>5.0</td>\n",
       "      <td>9.0</td>\n",
       "      <td>EWR</td>\n",
       "      <td>PIT</td>\n",
       "      <td>319.0</td>\n",
       "      <td>NaN</td>\n",
       "      <td>NaN</td>\n",
       "      <td>False</td>\n",
       "      <td>0</td>\n",
       "    </tr>\n",
       "  </tbody>\n",
       "</table>\n",
       "<p>5 rows × 21 columns</p>\n",
       "</div>"
      ],
      "text/plain": [
       "        Date  DayOfWeek  DepTime  CRSDepTime  ArrTime  CRSArrTime  \\\n",
       "0 1990-01-01          1   1621.0        1540   1747.0        1701   \n",
       "1 1990-01-02          2   1547.0        1540   1700.0        1701   \n",
       "2 1990-01-03          3   1546.0        1540   1710.0        1701   \n",
       "3 1990-01-04          4   1542.0        1540   1710.0        1701   \n",
       "4 1990-01-05          5   1549.0        1540   1706.0        1701   \n",
       "\n",
       "  UniqueCarrier  FlightNum TailNum  ActualElapsedTime  ...  AirTime  ArrDelay  \\\n",
       "0            US         33     NaN               86.0  ...      NaN      46.0   \n",
       "1            US         33     NaN               73.0  ...      NaN      -1.0   \n",
       "2            US         33     NaN               84.0  ...      NaN       9.0   \n",
       "3            US         33     NaN               88.0  ...      NaN       9.0   \n",
       "4            US         33     NaN               77.0  ...      NaN       5.0   \n",
       "\n",
       "   DepDelay  Origin Dest Distance  TaxiIn  TaxiOut  Cancelled  Diverted  \n",
       "0      41.0     EWR  PIT    319.0     NaN      NaN      False         0  \n",
       "1       7.0     EWR  PIT    319.0     NaN      NaN      False         0  \n",
       "2       6.0     EWR  PIT    319.0     NaN      NaN      False         0  \n",
       "3       2.0     EWR  PIT    319.0     NaN      NaN      False         0  \n",
       "4       9.0     EWR  PIT    319.0     NaN      NaN      False         0  \n",
       "\n",
       "[5 rows x 21 columns]"
      ]
     },
     "execution_count": 10,
     "metadata": {},
     "output_type": "execute_result"
    }
   ],
   "source": [
    "ddf.head()"
   ]
  },
  {
   "cell_type": "code",
   "execution_count": 11,
   "id": "9061bb16",
   "metadata": {},
   "outputs": [
    {
     "name": "stdout",
     "output_type": "stream",
     "text": [
      "<class 'dask.dataframe.core.DataFrame'>\n",
      "Columns: 21 entries, Date to Diverted\n",
      "dtypes: datetime64[ns](1), object(4), bool(1), float64(10), int64(5)"
     ]
    }
   ],
   "source": [
    "ddf.info()"
   ]
  },
  {
   "cell_type": "code",
   "execution_count": 18,
   "id": "98f9c846",
   "metadata": {},
   "outputs": [
    {
     "name": "stdout",
     "output_type": "stream",
     "text": [
      "10\n"
     ]
    }
   ],
   "source": [
    "print(ddf.npartitions)"
   ]
  },
  {
   "cell_type": "markdown",
   "id": "3492f00f",
   "metadata": {},
   "source": [
    "# Data pre-processing"
   ]
  },
  {
   "cell_type": "code",
   "execution_count": 8,
   "id": "2ed73fe3",
   "metadata": {},
   "outputs": [],
   "source": [
    "# It replaces any infinite values in the DepDelay column with NaN \n",
    "ddf['DepDelay'] =ddf['DepDelay'].replace([np.inf, -np.inf], np.nan)\n",
    "\n",
    "# List of columns to impute\n",
    "cols_to_impute = ['DepDelay']\n",
    "\n",
    "# Convert the specific columns to pandas DataFrame\n",
    "df_pandas = ddf[cols_to_impute].compute()\n",
    "\n",
    "# Ensure columns to impute are of float type\n",
    "df_pandas = df_pandas.astype(float)\n",
    "\n",
    "# Create the imputer\n",
    "imp = SimpleImputer(missing_values=np.nan, strategy='mean')\n",
    "\n",
    "# Apply the imputer to each column and convert back to pandas DataFrame\n",
    "for col in cols_to_impute:\n",
    "    df_pandas[col] = imp.fit_transform(df_pandas[[col]]).ravel()\n",
    "\n",
    "# Convert the pandas DataFrame back to a Dask DataFrame\n",
    "ddf_pandas = dd.from_pandas(df_pandas, npartitions=ddf.npartitions)\n",
    "\n",
    "# Reset the index to ensure known divisions and set the index again\n",
    "ddf_pandas = ddf_pandas.reset_index(drop=True)\n",
    "ddf_pandas = ddf_pandas.set_index(ddf_pandas.index)\n",
    "\n",
    "# Convert the 'DepDelay' column to integer (truncates decimals)\n",
    "ddf_pandas['DepDelay'] = ddf_pandas['DepDelay'].astype(int)\n",
    "data_array = np.array(ddf_pandas['DepDelay'])"
   ]
  },
  {
   "cell_type": "code",
   "execution_count": 9,
   "id": "91458acb",
   "metadata": {},
   "outputs": [],
   "source": [
    "gc.set_threshold(700, 10, 10)  # Adjust these values as needed\n"
   ]
  },
  {
   "cell_type": "markdown",
   "id": "e7a6f669",
   "metadata": {},
   "source": [
    "# ETL Process Comparison: Dask vs. Concurrent Processing\n",
    "This notebook compares the performance of Dask and Concurrent Processing for an ETL task involving a large dataset.\n"
   ]
  },
  {
   "cell_type": "code",
   "execution_count": null,
   "id": "e5d91e86",
   "metadata": {},
   "outputs": [],
   "source": [
    "# Configure logging\n",
    "logging.basicConfig(filename='etl.log', level=logging.INFO, format='%(asctime)s - %(levelname)s - %(message)s')\n",
    "\n",
    "\n",
    "class ETLProcess:\n",
    "    def __init__(self, data_array, batch_size, db_url, table_name):\n",
    "        self.data_array = data_array\n",
    "        self.batch_size = batch_size\n",
    "        self.db_url = db_url\n",
    "        self.table_name = table_name\n",
    "\n",
    "    @staticmethod\n",
    "    def square_and_sleep_batch(numbers):\n",
    "        try:\n",
    "            time.sleep(0.01 * len(numbers))  # Simulate some processing time\n",
    "            numbers = np.array(numbers)\n",
    "            result = numbers * 2  # Assuming the task is to square the numbers\n",
    "            return result.tolist()\n",
    "        except Exception as e:\n",
    "            logging.error(f\"Error in square_and_sleep_batch: {str(e)}\")\n",
    "            raise e\n",
    "\n",
    "    def extract(self):\n",
    "        try:\n",
    "            data_size = len(self.data_array)\n",
    "            batches = np.array_split(self.data_array, np.ceil(data_size / self.batch_size))\n",
    "            return batches\n",
    "        except Exception as e:\n",
    "            logging.error(f\"Error in extract: {str(e)}\")\n",
    "            raise e\n",
    "\n",
    "    @staticmethod\n",
    "    def transform(batches):\n",
    "        try:\n",
    "            client = Client(n_workers=4, threads_per_worker=201, memory_limit='2GB')\n",
    "            start_time_dask = time.time()\n",
    "\n",
    "            delayed_tasks = (delayed(ETLProcess.square_and_sleep_batch)(batch) for batch in batches)\n",
    "            dask_results = list(itertools.chain.from_iterable(compute(*delayed_tasks)))\n",
    "            end_time_dask = time.time()\n",
    "\n",
    "            dask_processing_time = end_time_dask - start_time_dask\n",
    "            logging.info(f\"Dask processing time: {dask_processing_time:.2f} seconds\")\n",
    "            print(f\"Dask processing time: {dask_processing_time:.2f} seconds\")\n",
    "            #Manually trigger garbage collection\n",
    "            #gc.collect()\n",
    "            client.close()\n",
    "            return dask_results\n",
    "        except Exception as e:\n",
    "            logging.error(f\"Error in transform: {str(e)}\")\n",
    "            raise e\n",
    "\n",
    "    @staticmethod\n",
    "    def concurrent_transform(batches, num_processes=4):\n",
    "        try:\n",
    "            start_time = time.time()\n",
    "            with ProcessPoolExecutor(max_workers=num_processes) as executor:\n",
    "                results = list(executor.map(ETLProcess.square_and_sleep_batch, batches))\n",
    "\n",
    "            end_time = time.time()\n",
    "            processing_time = end_time - start_time\n",
    "            logging.info(f\"Concurrent processing time (including sleep): {processing_time:.2f} seconds\")\n",
    "\n",
    "            flat_results = list(itertools.chain.from_iterable(results))\n",
    "            return flat_results\n",
    "        except Exception as e:\n",
    "            logging.error(f\"Error in transform_concurrent: {str(e)}\")\n",
    "            raise e\n",
    "\n",
    "    def load(self, data):\n",
    "        try:\n",
    "            engine = create_engine(self.db_url)\n",
    "            df = pd.DataFrame({'result': data})\n",
    "            df.to_sql(self.table_name, con=engine, if_exists='replace', index=False, chunksize=10000)\n",
    "            logging.info(f\"Successfully loaded {len(df)} records into table {self.table_name}\")\n",
    "        except Exception as e:\n",
    "            logging.error(f\"Error in load: {str(e)}\")\n",
    "            raise e\n",
    "\n",
    "    def row_count(self):\n",
    "        try:\n",
    "            conn = sqlite3.connect(self.db_url.split('///')[-1])\n",
    "            cursor = conn.cursor()\n",
    "            cursor.execute(f\"SELECT count(*) FROM {self.table_name}\")\n",
    "            row_count = cursor.fetchone()[0]\n",
    "            conn.close()\n",
    "            return row_count\n",
    "        except Exception as e:\n",
    "            logging.error(f\"Error in row_count: {str(e)}\")\n",
    "            raise e\n",
    "\n",
    "    def run_etl(self):\n",
    "        try:\n",
    "            # Extract\n",
    "            batches = self.extract()\n",
    "\n",
    "            # Transform (choose one of the two methods based on your preference)\n",
    "            dask_results = self.transform(batches)\n",
    "            #concurrent_results = self.concurrent_transform(batches)\n",
    "\n",
    "            # Load\n",
    "            self.load(dask_results)\n",
    "\n",
    "            logging.info(\"ETL process completed successfully\")\n",
    "        except Exception as e:\n",
    "            logging.error(f\"ETL process failed: {str(e)}\")\n",
    "\n",
    "\n",
    "if __name__ == '__main__':\n",
    "    try:\n",
    "        # Placeholder for actual data array\n",
    "        data = data_array  # Example data\n",
    "        batch_size = 4000  # Batch size for processing\n",
    "        db_url = 'sqlite:///data.db'  # SQLite database URL\n",
    "        table_name = 'dask_results'  # Table name in SQLite database\n",
    "\n",
    "        etl = ETLProcess(data, batch_size, db_url, table_name)\n",
    "        etl.run_etl()\n",
    "        logging.info(\"ETL process completed successfully\")\n",
    "\n",
    "        # Print number of rows in database table\n",
    "        row_count_value = etl.row_count()\n",
    "        print(f\"Number of rows in {table_name} table: {row_count_value}\")\n",
    "        logging.info(f\"Number of rows in {table_name} table: {row_count_value}\")\n",
    "    except Exception as e:\n",
    "        logging.error(f\"Main process failed: {str(e)}\")\n"
   ]
  },
  {
   "cell_type": "markdown",
   "id": "69171f63",
   "metadata": {},
   "source": [
    "**Dask processing time: 114.24 seconds**\n",
    "<br>**Concurrent processing time (including sleep): 6562.277817249298 seconds**    \n",
    "*Number of rows in dask_results table: 2611892*\n",
    "    "
   ]
  },
  {
   "cell_type": "code",
   "execution_count": null,
   "id": "4cacda8f",
   "metadata": {},
   "outputs": [],
   "source": [
    "# Results and Conclusion\n",
    "\n",
    "- **Dask Processing Time**: 114.24 seconds\n",
    "- **Concurrent Processing Time**: 6562.28 seconds\n",
    "- **Number of Rows in `dask_results` Table**: 2,611,892\n",
    "\n",
    "### Analysis\n",
    "- **Efficiency**: Dask is significantly more efficient than concurrent processing for this ETL task.\n",
    "- **Resource Utilization**: Dask optimizes resource utilization better, resulting in faster processing times.\n",
    "- **Accuracy**: Both methods correctly processed and loaded the entire dataset.\n",
    "\n",
    "### Conclusion\n",
    "For large-scale ETL processes, Dask provides substantial performance benefits and should be preferred for its efficiency and scalability.\n"
   ]
  },
  {
   "cell_type": "code",
   "execution_count": null,
   "id": "83aa60e2",
   "metadata": {},
   "outputs": [],
   "source": [
    "# Step-by-Step Explanation of the ETL Process"
   ]
  },
  {
   "cell_type": "code",
   "execution_count": null,
   "id": "4c803a2f",
   "metadata": {},
   "outputs": [],
   "source": [
    "**1. Imports and Initial Setup**\n",
    "<br>First, we need to import the necessary libraries and configure logging to record the ETL process steps.\n",
    "\n",
    "**2. ETLProcess Class Initialization**\n",
    "<br>We define the ETLProcess class, which initializes with a data array, batch size, database URL, and table name.\n",
    "\n",
    "**3. Batch Processing Method**\n",
    "<br>The square_and_sleep_batch method simulates processing time and multiplies the numbers in each batch.\n",
    "\n",
    "**4. Extract Method**\n",
    "<br>The extract method splits the data into batches based on the specified batch size.\n",
    "\n",
    "**5. Transform Methods**\n",
    "There are two transformation methods:\n",
    "<ol><li><h5>Dask Transform:</h5>Uses Dask to process the batches concurrently.\n",
    "<p align=justify>Initializes a Dask client with adjusted parameters (number of workers, threads per worker, memory limit). \n",
    "Creates a list of delayed tasks using delayed from dask. \n",
    "Each delayed task represents a call to the square_and_sleep_batch function on a specific batch of data.\n",
    "These tasks are not executed yet. \n",
    "Uses compute from dask to trigger the execution of the delayed tasks in parallel across Dask workers. Records the Dask processing time and prints it. Closes the Dask client to release resources. Returns the list of results obtained from the parallel execution.</p>     \n",
    "<li><h5>Concurrent Transform:</h5> Uses Python's concurrent futures to process the batches concurrently. \n",
    "<p align=justify> concurrent processing using a process pool. Records the start time for concurrent processing.\n",
    "Creates a process pool with a specified number of processes (adjusted based on CPU cores using os.cpu_count() in a \n",
    "real implementation). Uses pool.map from multiprocessing to distribute the square_and_sleep_batch function calls\n",
    "across the processes in the pool. Each process will handle one batch of data. Records the end time for concurrent processing \n",
    "and calculates the total processing time. Prints the concurrent processing time (including the sleep simulation).\n",
    "Flattens the nested list structure of results from the pool using itertools.chain.from_iterable to obtain a single list. \n",
    "Returns the flattened list of processed results. </ol>   </p>  \n",
    "\n",
    "**6. Load Method**\n",
    "<br>The load method stores the processed data into the specified SQLite database table.\n",
    "\n",
    "**7. Row Count Method**\n",
    "<br>The row_count method counts the number of rows in the specified database table.\n",
    "\n",
    "**8. Run ETL Process**\n",
    "<br>The run_etl method coordinates the entire ETL process: extraction, transformation, and loading of data.\n",
    "    \n",
    "**9. Main Function**\n",
    "<br>The main function initializes the ETL process with the given parameters and runs it. It also prints and logs the number of rows in the database table after the ETL process.\n",
    "\n",
    "<br>By following these steps, you can understand how the ETL process is implemented, from extracting data into batches, transforming the data with either Dask or concurrent futures, loading the transformed data into a SQLite database, and finally counting the rows in the database table to verify the process completion."
   ]
  },
  {
   "cell_type": "code",
   "execution_count": null,
   "id": "16008e24",
   "metadata": {},
   "outputs": [],
   "source": []
  }
 ],
 "metadata": {
  "kernelspec": {
   "display_name": "Python 3 (ipykernel)",
   "language": "python",
   "name": "python3"
  },
  "language_info": {
   "codemirror_mode": {
    "name": "ipython",
    "version": 3
   },
   "file_extension": ".py",
   "mimetype": "text/x-python",
   "name": "python",
   "nbconvert_exporter": "python",
   "pygments_lexer": "ipython3",
   "version": "3.9.12"
  }
 },
 "nbformat": 4,
 "nbformat_minor": 5
}
